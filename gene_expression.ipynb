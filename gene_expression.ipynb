{
 "cells": [
  {
   "cell_type": "code",
   "execution_count": 2,
   "id": "74057932-7d22-45f7-a747-eab1bcbe7553",
   "metadata": {},
   "outputs": [
    {
     "name": "stdout",
     "output_type": "stream",
     "text": [
      "Number of sequences containing 'GCGC': 55\n"
     ]
    }
   ],
   "source": [
    "from Bio import SeqIO\n",
    "\n",
    "# Initialize counter for sequences containing \"GCGC\"\n",
    "count_gcbc = 0\n",
    "\n",
    "# Read the FASTA file using Biopython\n",
    "for record in SeqIO.parse(\"genes.fa\", \"fasta\"):\n",
    "    sequence = str(record.seq).upper()\n",
    "    \n",
    "    # Check if the sequence contains the substring \"GCGC\"\n",
    "    if \"GCGC\" in sequence:\n",
    "        count_gcbc += 1\n",
    "\n",
    "# Output the count of sequences containing \"GCGC\"\n",
    "print(f\"Number of sequences containing 'GCGC': {count_gcbc}\")"
   ]
  },
  {
   "cell_type": "code",
   "execution_count": 3,
   "id": "834bdf06-847a-461a-bbb0-8d0dc2b8d72f",
   "metadata": {},
   "outputs": [
    {
     "name": "stdout",
     "output_type": "stream",
     "text": [
      "Classification results have been written to 'genes_length_classification.txt'\n"
     ]
    }
   ],
   "source": [
    "with open(\"genes_length_classification.txt\", \"w\") as output_file:\n",
    "    # Read the FASTA file using Biopython\n",
    "    for record in SeqIO.parse(\"genes.fa\", \"fasta\"):\n",
    "        gene_name = record.id\n",
    "        sequence_length = len(record.seq)\n",
    "\n",
    "        # Classify gene sequence based on its length\n",
    "        if sequence_length < 300:\n",
    "            classification = \"Short\"\n",
    "        elif 300 <= sequence_length <= 1000:\n",
    "            classification = \"Medium\"\n",
    "        else:\n",
    "            classification = \"Long\"\n",
    "        \n",
    "        # Write result to the output file\n",
    "        output_file.write(f\"{gene_name}\\t{classification}\\n\")\n",
    "\n",
    "print(\"Classification results have been written to 'genes_length_classification.txt'\")"
   ]
  },
  {
   "cell_type": "code",
   "execution_count": 4,
   "id": "c440515c-1eaf-46b0-97e5-c82e0f0bb00d",
   "metadata": {},
   "outputs": [
    {
     "name": "stdout",
     "output_type": "stream",
     "text": [
      "Classification results have been written to 'genes_length_classification.txt'\n"
     ]
    }
   ],
   "source": [
    "output_file = open(\"genes_length_classification.txt\", \"w\")\n",
    "# Read the FASTA file using Biopython\n",
    "for record in SeqIO.parse(\"genes.fa\", \"fasta\"):\n",
    "    gene_name = record.id\n",
    "    sequence_length = len(record.seq)\n",
    "\n",
    "    # Classify gene sequence based on its length\n",
    "    if sequence_length < 300:\n",
    "        classification = \"Short\"\n",
    "    elif 300 <= sequence_length <= 1000:\n",
    "        classification = \"Medium\"\n",
    "    else:\n",
    "        classification = \"Long\"\n",
    "    \n",
    "    # Write result to the output file\n",
    "    output_file.write(f\"{gene_name}\\t{classification}\\n\")\n",
    "\n",
    "output_file.close()\n",
    "\n",
    "print(\"Classification results have been written to 'genes_length_classification.txt'\")"
   ]
  },
  {
   "cell_type": "code",
   "execution_count": 5,
   "id": "753d5468-f791-4994-87f7-a7fdc071c490",
   "metadata": {},
   "outputs": [
    {
     "name": "stdout",
     "output_type": "stream",
     "text": [
      "Total number of genes: 100\n",
      "Longest gene: B0024.8a (Length: 3849)\n"
     ]
    }
   ],
   "source": [
    "# Initialize variables\n",
    "total_genes = 0\n",
    "longest_gene_length = 0\n",
    "longest_gene_name = None\n",
    "\n",
    "# Read the FASTA file using Biopython\n",
    "for record in SeqIO.parse(\"genes.fa\", \"fasta\"):\n",
    "    total_genes += 1\n",
    "    gene_length = len(record.seq)\n",
    "\n",
    "    # Check if this is the longest gene\n",
    "    if gene_length > longest_gene_length:\n",
    "        longest_gene_length = gene_length\n",
    "        longest_gene_name = record.id\n",
    "\n",
    "# Output the total number of genes and the longest gene sequence\n",
    "print(f\"Total number of genes: {total_genes}\")\n",
    "print(f\"Longest gene: {longest_gene_name} (Length: {longest_gene_length})\")"
   ]
  },
  {
   "cell_type": "code",
   "execution_count": 6,
   "id": "47609445-2bd1-4add-a84f-0f3c2fbf0eaa",
   "metadata": {},
   "outputs": [
    {
     "name": "stdout",
     "output_type": "stream",
     "text": [
      "Gene lengths:\n",
      "2L52.1a: 1284\n",
      "2L52.1b: 663\n",
      "2RSSE.1a: 1032\n",
      "2RSSE.1b: 1437\n",
      "3R5.1a: 648\n",
      "3R5.1b: 636\n",
      "4R79.1a: 1035\n",
      "4R79.1b: 543\n",
      "4R79.2a: 1188\n",
      "4R79.2b: 936\n",
      "6R55.2: 258\n",
      "AC3.1: 1068\n",
      "AC3.2: 1578\n",
      "AC3.3: 1278\n",
      "AC3.4: 1278\n",
      "AC3.5a: 3273\n",
      "AC3.5b: 2952\n",
      "AC3.6: 978\n",
      "AC3.7: 1590\n",
      "AC3.8: 1596\n",
      "AC3.10: 1056\n",
      "AC3.12: 285\n",
      "AC7.1a: 1188\n",
      "AC7.1b: 1161\n",
      "AC7.2a: 1680\n",
      "AC7.2b: 1677\n",
      "AC7.2c: 1896\n",
      "AC7.2d: 1650\n",
      "AC7.3: 711\n",
      "AC8.3: 1320\n",
      "AC8.4: 654\n",
      "AC8.7: 690\n",
      "AC8.10: 1320\n",
      "AC8.11: 654\n",
      "AC8.12: 690\n",
      "AH6.1: 3414\n",
      "AH6.2: 990\n",
      "AH6.3: 693\n",
      "AH6.4: 996\n",
      "AH6.5: 1404\n",
      "AH6.6: 990\n",
      "AH6.7: 990\n",
      "AH6.8: 990\n",
      "AH6.10: 990\n",
      "AH6.11: 990\n",
      "AH6.12: 990\n",
      "AH6.14: 996\n",
      "AH6.17: 186\n",
      "AH9.1: 1236\n",
      "AH9.2: 897\n",
      "AH9.3: 765\n",
      "AH9.4: 1095\n",
      "AH9.6: 801\n",
      "AH10.1: 1701\n",
      "AH10.2: 738\n",
      "AH10.3: 519\n",
      "AH10.4: 219\n",
      "B0001.1a: 816\n",
      "B0001.1b: 498\n",
      "B0001.1c: 213\n",
      "B0001.2: 2781\n",
      "B0001.3a: 1776\n",
      "B0001.3b: 1728\n",
      "B0001.3c: 1725\n",
      "B0001.4a: 747\n",
      "B0001.5: 1662\n",
      "B0001.6: 2025\n",
      "B0001.7a: 2196\n",
      "B0001.7b: 2208\n",
      "B0001.7c: 366\n",
      "B0001.8a: 1473\n",
      "B0001.8b: 1479\n",
      "B0001.8c: 216\n",
      "B0019.1: 2175\n",
      "B0019.2: 2244\n",
      "B0024.1: 894\n",
      "B0024.2: 894\n",
      "B0024.3: 765\n",
      "B0024.4: 1173\n",
      "B0024.6a: 3249\n",
      "B0024.6b: 3261\n",
      "B0024.8a: 3849\n",
      "B0024.8b: 2073\n",
      "B0024.8c: 1806\n",
      "B0024.8d: 1800\n",
      "B0024.9a: 438\n",
      "B0024.9b: 360\n",
      "B0024.10: 1722\n",
      "B0024.11: 1734\n",
      "B0024.12: 498\n",
      "B0024.13: 930\n",
      "B0024.14a: 2703\n",
      "B0024.14b: 2901\n",
      "B0024.14d: 2715\n",
      "B0024.14f: 2628\n",
      "B0024.15: 1035\n",
      "B0025.1a: 2706\n",
      "B0025.1b: 1953\n",
      "B0025.1c: 2694\n",
      "B0025.2: 1488\n"
     ]
    }
   ],
   "source": [
    "# Initialize dictionary to store gene names and lengths\n",
    "gene_lengths = {}\n",
    "\n",
    "# Read the FASTA file using Biopython\n",
    "for record in SeqIO.parse(\"genes.fa\", \"fasta\"):\n",
    "    gene_name = record.id\n",
    "    gene_length = len(record.seq)\n",
    "\n",
    "    # Add gene name and length to the dictionary\n",
    "    gene_lengths[gene_name] = gene_length\n",
    "\n",
    "# Print the dictionary\n",
    "print(\"Gene lengths:\")\n",
    "for gene_name, gene_length in gene_lengths.items():\n",
    "    print(f\"{gene_name}: {gene_length}\")"
   ]
  },
  {
   "cell_type": "code",
   "execution_count": 7,
   "id": "5eb4f732-f5c5-4618-9c46-276ce81f9ae0",
   "metadata": {},
   "outputs": [
    {
     "name": "stdout",
     "output_type": "stream",
     "text": [
      "Gene with the shortest sequence: AH6.17 (Length: 186)\n"
     ]
    }
   ],
   "source": [
    "# Find and display the gene with the shortest sequence\n",
    "shortest_gene_name = min(gene_lengths, key=gene_lengths.get)\n",
    "shortest_gene_length = gene_lengths[shortest_gene_name]\n",
    "print(f\"Gene with the shortest sequence: {shortest_gene_name} (Length: {shortest_gene_length})\")"
   ]
  },
  {
   "cell_type": "code",
   "execution_count": 8,
   "id": "de4291be-05cf-40e5-af9e-5605f67847d7",
   "metadata": {},
   "outputs": [
    {
     "name": "stdout",
     "output_type": "stream",
     "text": [
      "Gene with the highest GC content: 2RSSE.1a (GC Content: 52.23%)\n"
     ]
    }
   ],
   "source": [
    "# Define function to calculate GC content\n",
    "def find_gc_content(gene_sequence):\n",
    "    gc_count = gene_sequence.count(\"G\") + gene_sequence.count(\"C\")\n",
    "    gc_content = (gc_count / len(gene_sequence)) * 100\n",
    "    return gc_content\n",
    "\n",
    "# Initialize variables for the gene with the highest GC content\n",
    "highest_gc_content = 0\n",
    "highest_gc_gene_name = None\n",
    "\n",
    "# Read the FASTA file using Biopython\n",
    "for record in SeqIO.parse(\"genes.fa\", \"fasta\"):\n",
    "    gene_sequence = str(record.seq).upper()\n",
    "\n",
    "    # Get the GC content of the gene\n",
    "    gc_content = find_gc_content(gene_sequence)\n",
    "\n",
    "    # Check if this gene has the highest GC content\n",
    "    if gc_content > highest_gc_content:\n",
    "        highest_gc_content = gc_content\n",
    "        highest_gc_gene_name = record.id\n",
    "\n",
    "# Output the gene with the highest GC content and its GC percentage\n",
    "print(f\"Gene with the highest GC content: {highest_gc_gene_name} (GC Content: {highest_gc_content:.2f}%)\")"
   ]
  },
  {
   "cell_type": "code",
   "execution_count": 9,
   "id": "855ad289-5e2b-4070-8b2a-8eba99522281",
   "metadata": {},
   "outputs": [],
   "source": [
    "from Bio import SeqIO\n",
    "import re\n",
    "\n",
    "# Define the file name\n",
    "file_name = \"Organism_cDNA_FASTA.txt\"\n",
    "\n",
    "# Initialize variables for each question\n",
    "count_start_atg = 0\n",
    "count_stop_codons = 0\n",
    "longest_g_run = 0\n",
    "longest_g_gene = None\n",
    "count_poly_a = 0\n",
    "genes_with_poly_a = []\n",
    "count_motif_genes = 0\n",
    "genes_with_motif = []"
   ]
  },
  {
   "cell_type": "code",
   "execution_count": 11,
   "id": "86588c5d-b1b5-4afa-a8c3-b050615b0d81",
   "metadata": {},
   "outputs": [
    {
     "ename": "IndentationError",
     "evalue": "unindent does not match any outer indentation level (<string>, line 7)",
     "output_type": "error",
     "traceback": [
      "\u001b[1;36m  File \u001b[1;32m<string>:7\u001b[1;36m\u001b[0m\n\u001b[1;33m    print(f\"Question 1: Genes starting with 'ATG': {count_start_atg}\\n\")\u001b[0m\n\u001b[1;37m                                                                           ^\u001b[0m\n\u001b[1;31mIndentationError\u001b[0m\u001b[1;31m:\u001b[0m unindent does not match any outer indentation level\n"
     ]
    }
   ],
   "source": [
    "# Process the FASTA file using Biopython\n",
    "for record in SeqIO.parse(file_name, \"fasta\"):\n",
    "    sequence = str(record.seq).upper()  # Convert sequence to uppercase\n",
    "    gene_name = record.id  # Gene identifier\n",
    "if re.search(r\"^ATG\", sequence):  # Match sequences starting with \"ATG\"\n",
    "        count_start_atg += 1\n",
    " print(f\"Question 1: Genes starting with 'ATG': {count_start_atg}\\n\")   \n"
   ]
  },
  {
   "cell_type": "code",
   "execution_count": null,
   "id": "f9ef38d1-697c-4f82-af3a-266fbff0a114",
   "metadata": {},
   "outputs": [],
   "source": []
  },
  {
   "cell_type": "code",
   "execution_count": null,
   "id": "ddf3f08b-a363-4ea0-aca8-756210912131",
   "metadata": {},
   "outputs": [],
   "source": []
  },
  {
   "cell_type": "code",
   "execution_count": null,
   "id": "7dadb13f-4fe6-4611-875b-791b571817a4",
   "metadata": {},
   "outputs": [],
   "source": []
  },
  {
   "cell_type": "code",
   "execution_count": null,
   "id": "c40b1260-7f22-46f3-a07c-75517936ac29",
   "metadata": {},
   "outputs": [],
   "source": []
  },
  {
   "cell_type": "code",
   "execution_count": null,
   "id": "4b03acb0-f8b0-4ea3-a21d-d013b1d25c3f",
   "metadata": {},
   "outputs": [],
   "source": []
  },
  {
   "cell_type": "code",
   "execution_count": null,
   "id": "7d373309-eb09-4626-a60a-ae1016ab01b2",
   "metadata": {},
   "outputs": [],
   "source": []
  },
  {
   "cell_type": "code",
   "execution_count": null,
   "id": "b68a22e9-7d08-442e-b03a-cf04383e9a18",
   "metadata": {},
   "outputs": [],
   "source": []
  },
  {
   "cell_type": "code",
   "execution_count": null,
   "id": "f4b8206d-9883-47a2-a29b-2c82b956d55e",
   "metadata": {},
   "outputs": [],
   "source": []
  },
  {
   "cell_type": "code",
   "execution_count": null,
   "id": "d33176a0-0569-48f8-b0f4-d4a26a803b83",
   "metadata": {},
   "outputs": [],
   "source": []
  },
  {
   "cell_type": "code",
   "execution_count": null,
   "id": "5aab18e2-da51-447a-b734-c6661e82b1ac",
   "metadata": {},
   "outputs": [],
   "source": []
  },
  {
   "cell_type": "code",
   "execution_count": null,
   "id": "743c6653-83f7-4b2d-bcaa-1b7f6d33c1cc",
   "metadata": {},
   "outputs": [],
   "source": []
  },
  {
   "cell_type": "code",
   "execution_count": null,
   "id": "263b456c-4bd7-4cc1-92f0-f8281b522e5c",
   "metadata": {},
   "outputs": [],
   "source": []
  },
  {
   "cell_type": "code",
   "execution_count": null,
   "id": "4df1a0f1-b7f7-4e8e-89cc-0e5114759dd0",
   "metadata": {},
   "outputs": [],
   "source": []
  },
  {
   "cell_type": "code",
   "execution_count": null,
   "id": "6ff46649-e543-4a7f-8567-06495abd9c09",
   "metadata": {},
   "outputs": [],
   "source": []
  },
  {
   "cell_type": "code",
   "execution_count": null,
   "id": "6ae1546d-2191-429f-ae03-bbb95ab95d86",
   "metadata": {},
   "outputs": [],
   "source": []
  },
  {
   "cell_type": "code",
   "execution_count": null,
   "id": "c7651447-4c5f-40f8-a140-de192286b780",
   "metadata": {},
   "outputs": [],
   "source": []
  },
  {
   "cell_type": "code",
   "execution_count": null,
   "id": "a0f7afc7-af60-48bb-8dba-8d63bbd4de01",
   "metadata": {},
   "outputs": [],
   "source": []
  },
  {
   "cell_type": "code",
   "execution_count": null,
   "id": "ed411cc6-e7a7-44e0-b894-c6282050aa75",
   "metadata": {},
   "outputs": [],
   "source": []
  },
  {
   "cell_type": "code",
   "execution_count": null,
   "id": "34ef5b4d-f7ea-4ace-8ccf-13bbf39d8c3b",
   "metadata": {},
   "outputs": [],
   "source": []
  },
  {
   "cell_type": "code",
   "execution_count": null,
   "id": "fa4f7935-51f6-4aac-92ff-5604f05e0700",
   "metadata": {},
   "outputs": [],
   "source": []
  },
  {
   "cell_type": "code",
   "execution_count": null,
   "id": "16724ffb-9e0b-4dcd-90bc-748232e98a61",
   "metadata": {},
   "outputs": [],
   "source": []
  },
  {
   "cell_type": "code",
   "execution_count": null,
   "id": "c7ba9f01-5385-4728-bc3b-4f5cdc9eb289",
   "metadata": {},
   "outputs": [],
   "source": []
  },
  {
   "cell_type": "code",
   "execution_count": null,
   "id": "7a8feaf2-1ed7-49c0-ab02-9012431f5dd2",
   "metadata": {},
   "outputs": [],
   "source": []
  }
 ],
 "metadata": {
  "kernelspec": {
   "display_name": "Python [conda env:base] *",
   "language": "python",
   "name": "conda-base-py"
  },
  "language_info": {
   "codemirror_mode": {
    "name": "ipython",
    "version": 3
   },
   "file_extension": ".py",
   "mimetype": "text/x-python",
   "name": "python",
   "nbconvert_exporter": "python",
   "pygments_lexer": "ipython3",
   "version": "3.12.7"
  }
 },
 "nbformat": 4,
 "nbformat_minor": 5
}
